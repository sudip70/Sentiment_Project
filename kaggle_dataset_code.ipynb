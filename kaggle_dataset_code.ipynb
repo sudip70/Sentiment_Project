{
 "cells": [
  {
   "cell_type": "code",
   "execution_count": 1,
   "id": "21a7dc57-8d8c-4fbc-b277-d34026fb2fc5",
   "metadata": {},
   "outputs": [
    {
     "name": "stdout",
     "output_type": "stream",
     "text": [
      "Collecting kaggle\n",
      "  Downloading kaggle-1.6.17.tar.gz (82 kB)\n",
      "     ---------------------------------------- 0.0/82.7 kB ? eta -:--:--\n",
      "     ---------------------------------------- 82.7/82.7 kB 4.8 MB/s eta 0:00:00\n",
      "  Installing build dependencies: started\n",
      "  Installing build dependencies: finished with status 'done'\n",
      "  Getting requirements to build wheel: started\n",
      "  Getting requirements to build wheel: finished with status 'done'\n",
      "  Preparing metadata (pyproject.toml): started\n",
      "  Preparing metadata (pyproject.toml): finished with status 'done'\n",
      "Requirement already satisfied: six>=1.10 in c:\\users\\amrit raj\\appdata\\local\\programs\\python\\python311\\lib\\site-packages (from kaggle) (1.16.0)\n",
      "Requirement already satisfied: certifi>=2023.7.22 in c:\\users\\amrit raj\\appdata\\local\\programs\\python\\python311\\lib\\site-packages (from kaggle) (2024.6.2)\n",
      "Requirement already satisfied: python-dateutil in c:\\users\\amrit raj\\appdata\\local\\programs\\python\\python311\\lib\\site-packages (from kaggle) (2.9.0.post0)\n",
      "Requirement already satisfied: requests in c:\\users\\amrit raj\\appdata\\local\\programs\\python\\python311\\lib\\site-packages (from kaggle) (2.32.3)\n",
      "Requirement already satisfied: tqdm in c:\\users\\amrit raj\\appdata\\local\\programs\\python\\python311\\lib\\site-packages (from kaggle) (4.67.0)\n",
      "Collecting python-slugify (from kaggle)\n",
      "  Downloading python_slugify-8.0.4-py2.py3-none-any.whl.metadata (8.5 kB)\n",
      "Requirement already satisfied: urllib3 in c:\\users\\amrit raj\\appdata\\local\\programs\\python\\python311\\lib\\site-packages (from kaggle) (2.2.1)\n",
      "Requirement already satisfied: bleach in c:\\users\\amrit raj\\appdata\\local\\programs\\python\\python311\\lib\\site-packages (from kaggle) (6.1.0)\n",
      "Requirement already satisfied: webencodings in c:\\users\\amrit raj\\appdata\\local\\programs\\python\\python311\\lib\\site-packages (from bleach->kaggle) (0.5.1)\n",
      "Collecting text-unidecode>=1.3 (from python-slugify->kaggle)\n",
      "  Downloading text_unidecode-1.3-py2.py3-none-any.whl.metadata (2.4 kB)\n",
      "Requirement already satisfied: charset-normalizer<4,>=2 in c:\\users\\amrit raj\\appdata\\local\\programs\\python\\python311\\lib\\site-packages (from requests->kaggle) (3.3.2)\n",
      "Requirement already satisfied: idna<4,>=2.5 in c:\\users\\amrit raj\\appdata\\local\\programs\\python\\python311\\lib\\site-packages (from requests->kaggle) (3.7)\n",
      "Requirement already satisfied: colorama in c:\\users\\amrit raj\\appdata\\local\\programs\\python\\python311\\lib\\site-packages (from tqdm->kaggle) (0.4.6)\n",
      "Downloading python_slugify-8.0.4-py2.py3-none-any.whl (10 kB)\n",
      "Downloading text_unidecode-1.3-py2.py3-none-any.whl (78 kB)\n",
      "   ---------------------------------------- 0.0/78.2 kB ? eta -:--:--\n",
      "   ---------------------------------------- 78.2/78.2 kB 4.2 MB/s eta 0:00:00\n",
      "Building wheels for collected packages: kaggle\n",
      "  Building wheel for kaggle (pyproject.toml): started\n",
      "  Building wheel for kaggle (pyproject.toml): finished with status 'done'\n",
      "  Created wheel for kaggle: filename=kaggle-1.6.17-py3-none-any.whl size=105797 sha256=7d0edce9f705f0eb902e08622a40f0a80892719efd14f070f5cb94f4de2030b7\n",
      "  Stored in directory: c:\\users\\amrit raj\\appdata\\local\\pip\\cache\\wheels\\ff\\55\\fb\\b27a466be754d2a06ffe0e37b248d844f090a63b51becea85d\n",
      "Successfully built kaggle\n",
      "Installing collected packages: text-unidecode, python-slugify, kaggle\n",
      "Successfully installed kaggle-1.6.17 python-slugify-8.0.4 text-unidecode-1.3\n"
     ]
    },
    {
     "name": "stderr",
     "output_type": "stream",
     "text": [
      "\n",
      "[notice] A new release of pip is available: 24.1.2 -> 24.3.1\n",
      "[notice] To update, run: python.exe -m pip install --upgrade pip\n"
     ]
    }
   ],
   "source": [
    "!pip install kaggle\n"
   ]
  },
  {
   "cell_type": "code",
   "execution_count": null,
   "id": "e6d30ea1-da2a-43b4-a840-b5c739cbd196",
   "metadata": {},
   "outputs": [
    {
     "name": "stderr",
     "output_type": "stream",
     "text": [
      "\n",
      "  0%|          | 0.00/80.9M [00:00<?, ?B/s]\n",
      "  1%|1         | 1.00M/80.9M [00:00<00:10, 8.32MB/s]\n",
      "  4%|3         | 3.00M/80.9M [00:00<00:05, 13.8MB/s]\n",
      "  6%|6         | 5.00M/80.9M [00:00<00:04, 16.6MB/s]\n",
      "  9%|8         | 7.00M/80.9M [00:00<00:04, 17.1MB/s]\n",
      " 11%|#1        | 9.00M/80.9M [00:00<00:04, 17.9MB/s]\n",
      " 14%|#3        | 11.0M/80.9M [00:00<00:03, 18.7MB/s]\n",
      " 16%|#6        | 13.0M/80.9M [00:00<00:04, 16.5MB/s]\n",
      " 19%|#8        | 15.0M/80.9M [00:00<00:03, 17.5MB/s]\n",
      " 21%|##1       | 17.0M/80.9M [00:01<00:03, 17.7MB/s]\n",
      " 23%|##3       | 19.0M/80.9M [00:01<00:03, 17.5MB/s]\n",
      " 26%|##5       | 21.0M/80.9M [00:01<00:03, 18.0MB/s]\n",
      " 28%|##8       | 23.0M/80.9M [00:01<00:03, 18.2MB/s]\n",
      " 31%|###       | 25.0M/80.9M [00:01<00:03, 18.7MB/s]\n",
      " 33%|###3      | 27.0M/80.9M [00:01<00:03, 18.0MB/s]\n",
      " 36%|###5      | 29.0M/80.9M [00:01<00:02, 18.8MB/s]\n",
      " 38%|###8      | 31.0M/80.9M [00:01<00:02, 19.0MB/s]\n",
      " 41%|####      | 33.0M/80.9M [00:01<00:02, 19.0MB/s]\n",
      " 44%|####4     | 36.0M/80.9M [00:02<00:02, 20.4MB/s]\n",
      " 47%|####6     | 38.0M/80.9M [00:02<00:02, 20.4MB/s]\n",
      " 51%|#####     | 41.0M/80.9M [00:02<00:02, 20.5MB/s]\n",
      " 54%|#####4    | 44.0M/80.9M [00:02<00:01, 20.6MB/s]\n",
      " 58%|#####8    | 47.0M/80.9M [00:02<00:01, 20.6MB/s]\n",
      " 61%|######    | 49.0M/80.9M [00:02<00:01, 20.0MB/s]\n",
      " 64%|######4   | 52.0M/80.9M [00:02<00:01, 20.7MB/s]\n",
      " 68%|######7   | 55.0M/80.9M [00:03<00:01, 21.0MB/s]\n",
      " 70%|#######   | 57.0M/80.9M [00:03<00:01, 20.2MB/s]\n",
      " 74%|#######4  | 60.0M/80.9M [00:03<00:01, 21.6MB/s]\n",
      " 78%|#######7  | 63.0M/80.9M [00:03<00:00, 20.6MB/s]\n",
      " 82%|########1 | 66.0M/80.9M [00:03<00:00, 21.1MB/s]\n",
      " 85%|########5 | 69.0M/80.9M [00:03<00:00, 19.8MB/s]\n",
      " 88%|########7 | 71.0M/80.9M [00:03<00:00, 19.9MB/s]\n",
      " 91%|#########1| 74.0M/80.9M [00:04<00:00, 20.9MB/s]\n",
      " 95%|#########5| 77.0M/80.9M [00:04<00:00, 20.6MB/s]\n",
      " 99%|#########8| 80.0M/80.9M [00:04<00:00, 21.0MB/s]\n",
      "100%|##########| 80.9M/80.9M [00:04<00:00, 19.5MB/s]\n"
     ]
    },
    {
     "name": "stdout",
     "output_type": "stream",
     "text": [
      "Dataset URL: https://www.kaggle.com/datasets/kazanova/sentiment140\n",
      "License(s): other\n",
      "Downloading sentiment140.zip to C:\\\\Users\\\\Amrit Raj\\\\Downloads\\\\training_data\n",
      "\n",
      "Dataset downloaded and extracted successfully.\n"
     ]
    }
   ],
   "source": [
    "import os\n",
    "import zipfile\n",
    "\n",
    "os.environ['KAGGLE_CONFIG_DIR'] = \"C:\\\\Users\\\\Amrit Raj\\\\.kaggle\"  \n",
    "\n",
    "!kaggle datasets download -d kazanova/sentiment140 -p \"C:\\\\Users\\\\Amrit Raj\\\\Downloads\\\\training_data\"\n",
    "\n",
    "\n",
    "zip_path = \"C:\\\\Users\\\\Amrit Raj\\\\Downloads\\\\training_data\\\\sentiment140.zip\" \n",
    "extract_path = \"C:\\\\Users\\\\Amrit Raj\\\\Downloads\\\\training_data\"  \n",
    "\n",
    "try:\n",
    "    with zipfile.ZipFile(zip_path, 'r') as zip_ref:\n",
    "        zip_ref.extractall(extract_path)\n",
    "    print(\"Dataset downloaded and extracted successfully.\")\n",
    "except FileNotFoundError:\n",
    "    print(\"Error: The zip file was not found. Please check the download path.\")\n"
   ]
  },
  {
   "cell_type": "code",
   "execution_count": null,
   "id": "23f41d18-1589-4263-b6d4-b8b6874a9dc0",
   "metadata": {},
   "outputs": [],
   "source": []
  }
 ],
 "metadata": {
  "kernelspec": {
   "display_name": "Python 3 (ipykernel)",
   "language": "python",
   "name": "python3"
  },
  "language_info": {
   "codemirror_mode": {
    "name": "ipython",
    "version": 3
   },
   "file_extension": ".py",
   "mimetype": "text/x-python",
   "name": "python",
   "nbconvert_exporter": "python",
   "pygments_lexer": "ipython3",
   "version": "3.11.0"
  }
 },
 "nbformat": 4,
 "nbformat_minor": 5
}
